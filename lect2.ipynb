{
  "nbformat": 4,
  "nbformat_minor": 0,
  "metadata": {
    "colab": {
      "provenance": [],
      "authorship_tag": "ABX9TyNWPn2jsqFzIegQIqpSRoNQ",
      "include_colab_link": true
    },
    "kernelspec": {
      "name": "python3",
      "display_name": "Python 3"
    },
    "language_info": {
      "name": "python"
    }
  },
  "cells": [
    {
      "cell_type": "markdown",
      "metadata": {
        "id": "view-in-github",
        "colab_type": "text"
      },
      "source": [
        "<a href=\"https://colab.research.google.com/github/pragyaCodes7/PythonBasics/blob/main/lect2.ipynb\" target=\"_parent\"><img src=\"https://colab.research.google.com/assets/colab-badge.svg\" alt=\"Open In Colab\"/></a>"
      ]
    },
    {
      "cell_type": "code",
      "execution_count": null,
      "metadata": {
        "colab": {
          "base_uri": "https://localhost:8080/"
        },
        "id": "cll7ubk9iD9M",
        "outputId": "9fbc484b-8929-4468-85a9-b93f2163239d"
      },
      "outputs": [
        {
          "output_type": "stream",
          "name": "stdout",
          "text": [
            "Coding karlo\n"
          ]
        }
      ],
      "source": [
        "#Strings\n",
        "\n",
        "a = \"Coding karlo\"\n",
        "print(a)"
      ]
    },
    {
      "cell_type": "code",
      "source": [
        "#Multiline Strings\n",
        "\n",
        "b = \"\"\"Mensa-fied best friends and roommates Leonard and Sheldon, physicists who work at the California Institute of Technology,\n",
        "may be able to tell everybody more than they want to know about quantum physics, but getting through most basic social situations,\n",
        "especially ones involving women, totally baffles them. How lucky, then, that babelicious waitress/aspiring actress Penny moves in next door.\n",
        "Frequently seen hanging out with Leonard and Sheldon are friends and fellow Caltech scientists Wolowitz and Koothrappali.\n",
        "Will worlds collide? Does Einstein theorize in the woods?\"\"\"\n",
        "\n",
        "print(b)\n",
        "\n",
        "# we can use 3 single quotes as well for multiline strings.\n",
        "#In the result, we notice the line breaks, same as the code."
      ],
      "metadata": {
        "colab": {
          "base_uri": "https://localhost:8080/"
        },
        "id": "uto0MFff7MD9",
        "outputId": "bfd65e08-f3b5-431c-f360-a2b94c3153f5"
      },
      "execution_count": null,
      "outputs": [
        {
          "output_type": "stream",
          "name": "stdout",
          "text": [
            "Mensa-fied best friends and roommates Leonard and Sheldon, physicists who work at the California Institute of Technology, \n",
            "may be able to tell everybody more than they want to know about quantum physics, but getting through most basic social situations, \n",
            "especially ones involving women, totally baffles them. How lucky, then, that babelicious waitress/aspiring actress Penny moves in next door. \n",
            "Frequently seen hanging out with Leonard and Sheldon are friends and fellow Caltech scientists Wolowitz and Koothrappali. \n",
            "Will worlds collide? Does Einstein theorize in the woods?\n"
          ]
        }
      ]
    },
    {
      "cell_type": "markdown",
      "source": [
        "Strings in Python, much like the other programming languages, are arrays of bytes representing Unicode characters.\n",
        "\n",
        "But Python doesn't have a 'character' data type. Here, a single character is a string with length 1, simply.\n"
      ],
      "metadata": {
        "id": "MsYpkm1F8V-u"
      }
    },
    {
      "cell_type": "code",
      "source": [
        "#Square brackets are used to access elements of a string like an array.\n",
        "\n",
        "a = \"Coding karlo\"\n",
        "print(a[0])\n",
        "print(a[1])\n",
        "print(a[2])"
      ],
      "metadata": {
        "colab": {
          "base_uri": "https://localhost:8080/"
        },
        "id": "jmpapXWG9IP4",
        "outputId": "e547f156-5ed0-43d1-9c8b-fb4f0d0aafd3"
      },
      "execution_count": null,
      "outputs": [
        {
          "output_type": "stream",
          "name": "stdout",
          "text": [
            "C\n",
            "o\n",
            "d\n"
          ]
        }
      ]
    },
    {
      "cell_type": "code",
      "source": [
        "#Looping in strings\n",
        "\n",
        "for x in 'Coding karlo':\n",
        "  print(x)"
      ],
      "metadata": {
        "colab": {
          "base_uri": "https://localhost:8080/"
        },
        "id": "6rAJ6PB09he7",
        "outputId": "83b8ec72-dc2f-421c-dc4a-ebca5064af89"
      },
      "execution_count": null,
      "outputs": [
        {
          "output_type": "stream",
          "name": "stdout",
          "text": [
            "C\n",
            "o\n",
            "d\n",
            "i\n",
            "n\n",
            "g\n",
            " \n",
            "k\n",
            "a\n",
            "r\n",
            "l\n",
            "o\n"
          ]
        }
      ]
    },
    {
      "cell_type": "code",
      "source": [
        "#String length\n",
        "\n",
        "a = \"Coding karlo\"\n",
        "\n",
        "print(len(a))"
      ],
      "metadata": {
        "colab": {
          "base_uri": "https://localhost:8080/"
        },
        "id": "xT6Evlq2VLZk",
        "outputId": "c535fc32-c25e-447b-d865-cbba250dc509"
      },
      "execution_count": null,
      "outputs": [
        {
          "output_type": "stream",
          "name": "stdout",
          "text": [
            "12\n"
          ]
        }
      ]
    },
    {
      "cell_type": "code",
      "source": [
        "#To check whether a particular string is present in another string\n",
        "\n",
        "tbbt = \"The Big Bang Theory is a famous sitcom\"\n",
        "\n",
        "print(\"Theory\" in tbbt)\n",
        "print(\"theory\" in tbbt)                       # we use 'in' for this"
      ],
      "metadata": {
        "colab": {
          "base_uri": "https://localhost:8080/"
        },
        "id": "bSwKW2TgVZBO",
        "outputId": "a6cf2173-43bd-4417-cc4e-47a17c677d0d"
      },
      "execution_count": null,
      "outputs": [
        {
          "output_type": "stream",
          "name": "stdout",
          "text": [
            "True\n",
            "False\n"
          ]
        }
      ]
    },
    {
      "cell_type": "code",
      "source": [
        "#Better Version using 'if' statement\n",
        "\n",
        "tbbt = \"The Big Bang Theory is a famous sitcom\"\n",
        "\n",
        "if \"Theory\" in tbbt:\n",
        "  print(\"Found it!\")\n",
        "else:\n",
        "  print(\"Oops! Try again.\")\n",
        "\n",
        "if \"theory\" in tbbt:\n",
        "  print(\"Found it!\")\n",
        "else:\n",
        "  print(\"Oops! Try again.\")"
      ],
      "metadata": {
        "colab": {
          "base_uri": "https://localhost:8080/"
        },
        "id": "ICnm4Rq-WJ1x",
        "outputId": "58410b5e-2a1d-4ae3-8b60-570d99eab523"
      },
      "execution_count": null,
      "outputs": [
        {
          "output_type": "stream",
          "name": "stdout",
          "text": [
            "Found it!\n",
            "Oops! Try again.\n"
          ]
        }
      ]
    },
    {
      "cell_type": "code",
      "source": [
        "#To check if something is NOT present in the string\n",
        "\n",
        "tbbt = \"The Big Bang Theory is a famous sitcom\"\n",
        "\n",
        "print(\"Theory\" not in tbbt)\n",
        "print(\"theory\" not in tbbt)                        # we use 'not in' for this"
      ],
      "metadata": {
        "colab": {
          "base_uri": "https://localhost:8080/"
        },
        "id": "xdllPeeUW_Og",
        "outputId": "98b39206-7165-4923-e32c-c21933e47588"
      },
      "execution_count": null,
      "outputs": [
        {
          "output_type": "stream",
          "name": "stdout",
          "text": [
            "False\n",
            "True\n"
          ]
        }
      ]
    },
    {
      "cell_type": "code",
      "source": [
        "#Better Version using 'if' statement\n",
        "\n",
        "tbbt = \"The Big Bang Theory is a famous sitcom\"\n",
        "\n",
        "if \"Theory\" not in tbbt:\n",
        "  print(\"Oops! Try again.\")\n",
        "else:\n",
        "  print(\"Found it!\")\n",
        "\n",
        "if \"theory\" not in tbbt:\n",
        "  print(\"Oops! Try again.\")\n",
        "else:\n",
        "  print(\"Found it!\")"
      ],
      "metadata": {
        "colab": {
          "base_uri": "https://localhost:8080/"
        },
        "id": "_YtQe7gGXlGt",
        "outputId": "f51526f1-9779-4dff-fdaf-8fdc0ef1c278"
      },
      "execution_count": null,
      "outputs": [
        {
          "output_type": "stream",
          "name": "stdout",
          "text": [
            "Found it!\n",
            "Oops! Try again.\n"
          ]
        }
      ]
    },
    {
      "cell_type": "code",
      "source": [
        "# Slicing an array\n",
        "\n",
        "a = \"Coding karlo\"\n",
        "print(a[2:6])                  # starting from 2nd index to 5th (6th is not included)\n",
        "print(a[:6])                   # startig from 0 index to 5th\n",
        "print(a[6:])                   # starting from 6th to last\n",
        "\n",
        "# Negative Slicing\n",
        "\n",
        "a = \"Coding karlo\"\n",
        "print(a[-6:-2])"
      ],
      "metadata": {
        "id": "Jt2dwutzYDE7",
        "colab": {
          "base_uri": "https://localhost:8080/"
        },
        "outputId": "bf55713e-04ce-4fa3-a7fa-dd127f4b3252"
      },
      "execution_count": null,
      "outputs": [
        {
          "output_type": "stream",
          "name": "stdout",
          "text": [
            "ding\n",
            "Coding\n",
            " karlo\n",
            " kar\n"
          ]
        }
      ]
    },
    {
      "cell_type": "code",
      "source": [
        "a = \"Coding karlo\"\n",
        "\n",
        "#Uppercase\n",
        "print(a.upper())\n",
        "\n",
        "#Lowercase\n",
        "print(a.lower())"
      ],
      "metadata": {
        "colab": {
          "base_uri": "https://localhost:8080/"
        },
        "id": "edza_OSWu9lJ",
        "outputId": "9c7f153a-6726-4d99-e7c8-8dbb5b1f3aac"
      },
      "execution_count": null,
      "outputs": [
        {
          "output_type": "stream",
          "name": "stdout",
          "text": [
            "CODING KARLO\n",
            "coding karlo\n"
          ]
        }
      ]
    },
    {
      "cell_type": "code",
      "source": [
        "a = \"   Coding karlo  \"\n",
        "\n",
        "print(a)\n",
        "\n",
        "# Whitespace is the space before and/or after the actual text, and very often you want to remove this space\n",
        "# .strip() removes the whitespace from beginning to the end\n",
        "print(a.strip())"
      ],
      "metadata": {
        "colab": {
          "base_uri": "https://localhost:8080/"
        },
        "id": "tYOLszWszFg7",
        "outputId": "2b7b114c-f363-459a-ab8c-422861743f50"
      },
      "execution_count": null,
      "outputs": [
        {
          "output_type": "stream",
          "name": "stdout",
          "text": [
            "   Coding karlo  \n",
            "Coding karlo\n"
          ]
        }
      ]
    },
    {
      "cell_type": "code",
      "source": [
        "#Replace a string with another\n",
        "\n",
        "a = \"Coding karlo\"\n",
        "\n",
        "print(a.replace(\"C\", \"K\"))"
      ],
      "metadata": {
        "colab": {
          "base_uri": "https://localhost:8080/"
        },
        "id": "oMf-vJzdzn4X",
        "outputId": "b45fb3cb-91c3-436f-a781-021e0d81d689"
      },
      "execution_count": null,
      "outputs": [
        {
          "output_type": "stream",
          "name": "stdout",
          "text": [
            "Koding karlo\n"
          ]
        }
      ]
    },
    {
      "cell_type": "code",
      "source": [
        "# Split a string\n",
        "#The split() method returns a list where the text between the specified separator becomes the list items.\n",
        "\n",
        "a = \"Coding karlo\"\n",
        "\n",
        "print(a.split(\" \"))\n",
        "\n",
        "b = \"Coding,karlo\"\n",
        "\n",
        "print(b.split(\",\"))\n",
        "\n",
        "c = \"Coding:karlo\"\n",
        "\n",
        "print(c.split(\":\"))\n",
        "\n",
        "d =  'CatBatSatFatOr'\n",
        "\n",
        "print(d.split(\"t\"))"
      ],
      "metadata": {
        "colab": {
          "base_uri": "https://localhost:8080/"
        },
        "id": "dP3uYRvZ0A86",
        "outputId": "4991d320-8dc8-4f78-c4d3-10309a6aadd8"
      },
      "execution_count": null,
      "outputs": [
        {
          "output_type": "stream",
          "name": "stdout",
          "text": [
            "['Coding', 'karlo']\n",
            "['Coding', 'karlo']\n",
            "['Coding', 'karlo']\n",
            "['Ca', 'Ba', 'Sa', 'Fa', 'Or']\n"
          ]
        }
      ]
    },
    {
      "cell_type": "code",
      "source": [
        "#String Concatenation\n",
        "\n",
        "a = \"Coding\"\n",
        "b = \"karlo\"\n",
        "\n",
        "print(a+\" \"+b)"
      ],
      "metadata": {
        "colab": {
          "base_uri": "https://localhost:8080/"
        },
        "id": "2lEdZjPx-PqU",
        "outputId": "ac88230c-3f0f-4786-f874-1ca1b5b77481"
      },
      "execution_count": null,
      "outputs": [
        {
          "output_type": "stream",
          "name": "stdout",
          "text": [
            "Coding karlo\n"
          ]
        }
      ]
    },
    {
      "cell_type": "code",
      "source": [
        "# We cannot combine strings and numbers like this:\n",
        "# age = 36\n",
        "# txt = \"My name is John, I am \" + age\n",
        "# print(txt)\n",
        "# But we can combine strings and numbers by using the format() method.\n",
        "# It takes the passed arguments, formats them, and places them in the string where the placeholders {} are:\n",
        "\n",
        "age = 178\n",
        "txt = \"My name is Damon, and I am {}.\"\n",
        "print(txt.format(age))"
      ],
      "metadata": {
        "colab": {
          "base_uri": "https://localhost:8080/"
        },
        "id": "IphSohOGI4HR",
        "outputId": "ae37aa83-c5f9-44bf-d1af-74bf89d478dd"
      },
      "execution_count": null,
      "outputs": [
        {
          "output_type": "stream",
          "name": "stdout",
          "text": [
            "My name is Damon, and I am 178.\n"
          ]
        }
      ]
    },
    {
      "cell_type": "code",
      "source": [
        "quantity = 3\n",
        "itemno = 567\n",
        "price = 49.95\n",
        "myorder = \"I want {} pieces of item {} for {} dollars.\"\n",
        "print(myorder.format(quantity, itemno, price))"
      ],
      "metadata": {
        "colab": {
          "base_uri": "https://localhost:8080/"
        },
        "id": "Tk5npZiaIuoo",
        "outputId": "67a1dc5e-4b38-475e-8bcc-9733d0d8f83d"
      },
      "execution_count": null,
      "outputs": [
        {
          "output_type": "stream",
          "name": "stdout",
          "text": [
            "I want 3 pieces of item 567 for 49.95 dollars.\n"
          ]
        }
      ]
    },
    {
      "cell_type": "code",
      "source": [
        "quantity = 3\n",
        "itemno = 567\n",
        "price = 49.95\n",
        "myorder = \"I want to pay {2} dollars for {0} pieces of item {1}.\"\n",
        "print(myorder.format(quantity, itemno, price))"
      ],
      "metadata": {
        "colab": {
          "base_uri": "https://localhost:8080/"
        },
        "id": "v4-iDBa0YcVQ",
        "outputId": "eea529b8-443b-4384-93af-a60d84dfd4bc"
      },
      "execution_count": null,
      "outputs": [
        {
          "output_type": "stream",
          "name": "stdout",
          "text": [
            "I want to pay 49.95 dollars for 3 pieces of item 567.\n"
          ]
        }
      ]
    },
    {
      "cell_type": "markdown",
      "source": [
        "Some characters are illegal in a string, for eg. double quotes, hence we need escape characters.\n",
        "These escape characters allow us to use these illegal characters which are normally not allowed."
      ],
      "metadata": {
        "id": "5nmw3xBS6uhh"
      }
    },
    {
      "cell_type": "code",
      "source": [
        "txt = 'It\\'s not that common, it doesn\\'t happen to everyone and it is a big deal!'\n",
        "print(txt)"
      ],
      "metadata": {
        "id": "ncLQeLxQYrrV",
        "colab": {
          "base_uri": "https://localhost:8080/"
        },
        "outputId": "f11906ee-736a-4489-a676-a2e815827554"
      },
      "execution_count": null,
      "outputs": [
        {
          "output_type": "stream",
          "name": "stdout",
          "text": [
            "It's not that common, it doesn't happen to everyone and it is a big deal!\n"
          ]
        }
      ]
    },
    {
      "cell_type": "code",
      "source": [
        "txt = \"This will add a backslash: \\\\\"\n",
        "print(txt)"
      ],
      "metadata": {
        "colab": {
          "base_uri": "https://localhost:8080/"
        },
        "id": "eodMU89n9ZnB",
        "outputId": "3d7467f9-40ae-47bc-ad6e-55198badd1d6"
      },
      "execution_count": null,
      "outputs": [
        {
          "output_type": "stream",
          "name": "stdout",
          "text": [
            "This will add a backslash: \\\n"
          ]
        }
      ]
    },
    {
      "cell_type": "code",
      "source": [
        "txt = \"You.\\nAre.\\nAn Idiot!\"\n",
        "print(txt)"
      ],
      "metadata": {
        "colab": {
          "base_uri": "https://localhost:8080/"
        },
        "id": "6wAdgnty9pkr",
        "outputId": "986882fb-a74c-4a88-c5d8-d8f99ab20946"
      },
      "execution_count": null,
      "outputs": [
        {
          "output_type": "stream",
          "name": "stdout",
          "text": [
            "You.\n",
            "Are.\n",
            "An Idiot!\n"
          ]
        }
      ]
    },
    {
      "cell_type": "code",
      "source": [
        "txt = \"This is Carriage\\rReturn\"\n",
        "print(txt)                       # Carriage return resets the cursor to the beginning of the line"
      ],
      "metadata": {
        "colab": {
          "base_uri": "https://localhost:8080/"
        },
        "id": "IbF00Pfi97Bq",
        "outputId": "8214da91-f60b-436c-bdc1-4eca4eecc2e9"
      },
      "execution_count": null,
      "outputs": [
        {
          "output_type": "stream",
          "name": "stdout",
          "text": [
            "This is Carriage\rReturn\n"
          ]
        }
      ]
    },
    {
      "cell_type": "code",
      "source": [
        "txt = \"Chandler\\tBing\"\n",
        "print(txt)"
      ],
      "metadata": {
        "colab": {
          "base_uri": "https://localhost:8080/"
        },
        "id": "Y9js4G-9-X0t",
        "outputId": "550a8741-0d8c-4bd0-c096-5896af32989a"
      },
      "execution_count": null,
      "outputs": [
        {
          "output_type": "stream",
          "name": "stdout",
          "text": [
            "Chandler\tBing\n"
          ]
        }
      ]
    },
    {
      "cell_type": "code",
      "source": [
        "txt = \"Crap \\bBag\"\n",
        "print(txt)"
      ],
      "metadata": {
        "colab": {
          "base_uri": "https://localhost:8080/"
        },
        "id": "VtgXRWVG-wgw",
        "outputId": "583b63a6-acd0-4255-fbca-17b28add9615"
      },
      "execution_count": null,
      "outputs": [
        {
          "output_type": "stream",
          "name": "stdout",
          "text": [
            "Crap \bBag\n"
          ]
        }
      ]
    },
    {
      "cell_type": "code",
      "source": [
        "txt = \"\\123\\150\\145\\154\\144\\157\\156\\114\\145\\145\\103\\157\\157\\160\\145\\162\"\n",
        "print(txt)"
      ],
      "metadata": {
        "colab": {
          "base_uri": "https://localhost:8080/"
        },
        "id": "eU7MIZmb_Qlk",
        "outputId": "00894488-2529-4eb5-bfa7-d5ce29daa879"
      },
      "execution_count": null,
      "outputs": [
        {
          "output_type": "stream",
          "name": "stdout",
          "text": [
            "SheldonLeeCooper\n"
          ]
        }
      ]
    },
    {
      "cell_type": "code",
      "source": [
        "txt = \"\\x53\\x68\\x65\\x6c\\x64\\x6f\\x6e\\x4c\\x65\\x65\\x43\\x6f\\x6f\\x70\\x65\\x72\"\n",
        "print(txt)"
      ],
      "metadata": {
        "colab": {
          "base_uri": "https://localhost:8080/"
        },
        "id": "ghEJNu8W_pvZ",
        "outputId": "4ef7c1dc-c391-4e5a-c453-061bcaa09724"
      },
      "execution_count": null,
      "outputs": [
        {
          "output_type": "stream",
          "name": "stdout",
          "text": [
            "SheldonLeeCooper\n"
          ]
        }
      ]
    },
    {
      "cell_type": "code",
      "source": [
        "b = \"joey is mad.\"\n",
        "print(b.capitalize())"
      ],
      "metadata": {
        "colab": {
          "base_uri": "https://localhost:8080/"
        },
        "id": "lgbNpWNCDTLM",
        "outputId": "1e866f49-9b9d-4ea2-9353-66ddd519c4ff"
      },
      "execution_count": null,
      "outputs": [
        {
          "output_type": "stream",
          "name": "stdout",
          "text": [
            "Joey is mad.\n"
          ]
        }
      ]
    },
    {
      "cell_type": "code",
      "source": [
        "b = \"Joey Is Mad.\"\n",
        "print(b.casefold())"
      ],
      "metadata": {
        "colab": {
          "base_uri": "https://localhost:8080/"
        },
        "id": "ylVq4q_rDrsL",
        "outputId": "c697b4e1-c46e-453d-ab27-7143d8bec1c0"
      },
      "execution_count": null,
      "outputs": [
        {
          "output_type": "stream",
          "name": "stdout",
          "text": [
            "joey is mad.\n"
          ]
        }
      ]
    },
    {
      "cell_type": "code",
      "source": [
        "txt = \"banana\"\n",
        "x = txt.center(100, \"*\")\n",
        "\n",
        "print(x)\n",
        "\n",
        "# SYNTAX: string.center(length, character)\n",
        "# Paramaters: length (required) - Length of the string to be returned\n",
        "#             character (optional) - The character to fill the missing space on each side. Default is \" \" (space)"
      ],
      "metadata": {
        "colab": {
          "base_uri": "https://localhost:8080/"
        },
        "id": "jLQCgH7GD3wm",
        "outputId": "6d21a535-fcff-4b74-c9cc-fdc93aea7391"
      },
      "execution_count": null,
      "outputs": [
        {
          "output_type": "stream",
          "name": "stdout",
          "text": [
            "***********************************************banana***********************************************\n"
          ]
        }
      ]
    },
    {
      "cell_type": "code",
      "source": [
        "txt = \"Chandler is the funniest. Chandler is my fav character.\"\n",
        "x = txt.count(\"Chandler\", 10, 20);\n",
        "\n",
        "print(x)\n",
        "\n",
        "# SYNTAX: string.count(value, start, end)\n",
        "# Parameters: value\t(required) - The string to value to search for\n",
        "#             start\t(optional) - The position to start the search. Default is 0\n",
        "#             end\t(optional) - The position to end the search. Default is the end of the string"
      ],
      "metadata": {
        "id": "ltA8v0niEzJV",
        "colab": {
          "base_uri": "https://localhost:8080/"
        },
        "outputId": "c8a69b71-2184-4f43-8a4d-ffaef1a55c8f"
      },
      "execution_count": null,
      "outputs": [
        {
          "output_type": "stream",
          "name": "stdout",
          "text": [
            "1\n"
          ]
        }
      ]
    },
    {
      "cell_type": "code",
      "source": [],
      "metadata": {
        "id": "9eEaQLTRylDQ"
      },
      "execution_count": null,
      "outputs": []
    }
  ]
}